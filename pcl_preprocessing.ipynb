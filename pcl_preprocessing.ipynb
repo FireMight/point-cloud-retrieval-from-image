{
  "nbformat": 4,
  "nbformat_minor": 0,
  "metadata": {
    "colab": {
      "name": "pcl_preprocessing.ipynb",
      "version": "0.3.2",
      "provenance": [],
      "collapsed_sections": [
        "WBrUQFNHv7yI"
      ]
    },
    "kernelspec": {
      "name": "python3",
      "display_name": "Python 3"
    }
  },
  "cells": [
    {
      "cell_type": "markdown",
      "metadata": {
        "id": "WBrUQFNHv7yI",
        "colab_type": "text"
      },
      "source": [
        "## **Clone repositiory**"
      ]
    },
    {
      "cell_type": "code",
      "metadata": {
        "id": "kfjIcnlhlgez",
        "colab_type": "code",
        "colab": {
          "base_uri": "https://localhost:8080/",
          "height": 51
        },
        "outputId": "e0fe05dd-4734-4dfc-a7df-f678dc51f1d8"
      },
      "source": [
        "%cd /content/\n",
        "!git clone --recurse-submodules https://github.com/FireMight/point-cloud-retrieval-from-image.git"
      ],
      "execution_count": 45,
      "outputs": [
        {
          "output_type": "stream",
          "text": [
            "/content\n",
            "fatal: destination path 'point-cloud-retrieval-from-image' already exists and is not an empty directory.\n"
          ],
          "name": "stdout"
        }
      ]
    },
    {
      "cell_type": "markdown",
      "metadata": {
        "id": "os82lrHswC8r",
        "colab_type": "text"
      },
      "source": [
        "## **Install pcl library and build  downsampling binary**"
      ]
    },
    {
      "cell_type": "code",
      "metadata": {
        "id": "3zX8EfKbpTuo",
        "colab_type": "code",
        "colab": {
          "base_uri": "https://localhost:8080/",
          "height": 1000
        },
        "outputId": "0062ccd4-14d5-44b3-c820-d5b9a48d50cd"
      },
      "source": [
        "!apt update\n",
        "!apt install libpcl-dev\n",
        "\n",
        "%cd /content/point-cloud-retrieval-from-image/data/oxford/\n",
        "!ls -a\n",
        "!mkdir build\n",
        "%cd build\n",
        "!cmake ..\n",
        "!make\n",
        "%cd /content/"
      ],
      "execution_count": 41,
      "outputs": [
        {
          "output_type": "stream",
          "text": [
            "\u001b[33m\r0% [Working]\u001b[0m\r            \rHit:1 http://ppa.launchpad.net/graphics-drivers/ppa/ubuntu bionic InRelease\n",
            "\u001b[33m\r0% [Waiting for headers] [Waiting for headers] [Connecting to cloud.r-project.o\u001b[0m\r                                                                               \rHit:2 http://archive.ubuntu.com/ubuntu bionic InRelease\n",
            "\r                                                                               \rGet:3 http://security.ubuntu.com/ubuntu bionic-security InRelease [88.7 kB]\n",
            "\u001b[33m\r0% [Waiting for headers] [3 InRelease 8,380 B/88.7 kB 9%] [Connecting to cloud.\u001b[0m\u001b[33m\r0% [1 InRelease gpgv 21.3 kB] [Waiting for headers] [3 InRelease 8,380 B/88.7 k\u001b[0m\r                                                                               \rIgn:4 https://developer.download.nvidia.com/compute/cuda/repos/ubuntu1804/x86_64  InRelease\n",
            "\u001b[33m\r0% [1 InRelease gpgv 21.3 kB] [Waiting for headers] [3 InRelease 11.3 kB/88.7 k\u001b[0m\r                                                                               \rGet:5 http://archive.ubuntu.com/ubuntu bionic-updates InRelease [88.7 kB]\n",
            "\u001b[33m\r0% [1 InRelease gpgv 21.3 kB] [5 InRelease 2,604 B/88.7 kB 3%] [3 InRelease 14.\u001b[0m\r                                                                               \rIgn:6 https://developer.download.nvidia.com/compute/machine-learning/repos/ubuntu1804/x86_64  InRelease\n",
            "\u001b[33m\r0% [1 InRelease gpgv 21.3 kB] [5 InRelease 8,396 B/88.7 kB 9%] [3 InRelease 20.\u001b[0m\r                                                                               \rHit:7 https://developer.download.nvidia.com/compute/cuda/repos/ubuntu1804/x86_64  Release\n",
            "Hit:8 https://developer.download.nvidia.com/compute/machine-learning/repos/ubuntu1804/x86_64  Release\n",
            "Get:9 https://cloud.r-project.org/bin/linux/ubuntu bionic-cran35/ InRelease [3,626 B]\n",
            "Get:10 http://archive.ubuntu.com/ubuntu bionic-backports InRelease [74.6 kB]\n",
            "Hit:13 http://ppa.launchpad.net/marutter/c2d4u3.5/ubuntu bionic InRelease\n",
            "Fetched 256 kB in 2s (120 kB/s)\n",
            "Reading package lists... Done\n",
            "Building dependency tree       \n",
            "Reading state information... Done\n",
            "38 packages can be upgraded. Run 'apt list --upgradable' to see them.\n",
            "Reading package lists... Done\n",
            "Building dependency tree       \n",
            "Reading state information... Done\n",
            "libpcl-dev is already the newest version (1.8.1+dfsg1-2ubuntu2.18.04.1).\n",
            "The following package was automatically installed and is no longer required:\n",
            "  libnvidia-common-410\n",
            "Use 'apt autoremove' to remove it.\n",
            "0 upgraded, 0 newly installed, 0 to remove and 38 not upgraded.\n",
            "/content/point-cloud-retrieval-from-image/data/oxford\n",
            ".\t\t\timg\t\t       processed\n",
            "..\t\t\tned_pcl_to_file.py     project_submap_to_img.py\n",
            "build\t\t\tpcl\t\t       robotcar-dataset-sdk\n",
            "CMakeLists.txt\t\tpcl_preprocessing.cpp  testmap.raw\n",
            "data_sample\t\tpcl_trafo.py\t       unpack_data.py\n",
            "image_preprocessing.py\tplot_route.py\t       visualize_submap.py\n",
            "mkdir: cannot create directory ‘build’: File exists\n",
            "/content/point-cloud-retrieval-from-image/data/oxford/build\n",
            "-- Boost version: 1.65.1\n",
            "-- Found the following Boost libraries:\n",
            "--   system\n",
            "--   filesystem\n",
            "--   thread\n",
            "--   date_time\n",
            "--   iostreams\n",
            "--   serialization\n",
            "--   chrono\n",
            "--   atomic\n",
            "--   regex\n",
            "-- Could NOT find ensenso (missing: ENSENSO_LIBRARY ENSENSO_INCLUDE_DIR) \n",
            "** WARNING ** io features related to ensenso will be disabled\n",
            "-- Could NOT find DAVIDSDK (missing: DAVIDSDK_LIBRARY DAVIDSDK_INCLUDE_DIR) \n",
            "** WARNING ** io features related to davidSDK will be disabled\n",
            "-- Could NOT find DSSDK (missing: _DSSDK_LIBRARIES) \n",
            "** WARNING ** io features related to dssdk will be disabled\n",
            "** WARNING ** io features related to pcap will be disabled\n",
            "** WARNING ** io features related to png will be disabled\n",
            "-- The imported target \"vtkRenderingPythonTkWidgets\" references the file\n",
            "   \"/usr/lib/x86_64-linux-gnu/libvtkRenderingPythonTkWidgets.so\"\n",
            "but this file does not exist.  Possible reasons include:\n",
            "* The file was deleted, renamed, or moved to another location.\n",
            "* An install or uninstall procedure did not complete successfully.\n",
            "* The installation package was faulty and contained\n",
            "   \"/usr/lib/cmake/vtk-6.3/VTKTargets.cmake\"\n",
            "but not all the files it references.\n",
            "\n",
            "-- The imported target \"vtk\" references the file\n",
            "   \"/usr/bin/vtk\"\n",
            "but this file does not exist.  Possible reasons include:\n",
            "* The file was deleted, renamed, or moved to another location.\n",
            "* An install or uninstall procedure did not complete successfully.\n",
            "* The installation package was faulty and contained\n",
            "   \"/usr/lib/cmake/vtk-6.3/VTKTargets.cmake\"\n",
            "but not all the files it references.\n",
            "\n",
            "-- LIBUSB_1_LIBRARY (missing: LIBUSB_1_INCLUDE_DIR) \n",
            "** WARNING ** io features related to libusb-1.0 will be disabled\n",
            "-- Could NOT find ensenso (missing: ENSENSO_LIBRARY ENSENSO_INCLUDE_DIR) \n",
            "** WARNING ** 2d features related to ensenso will be disabled\n",
            "-- Could NOT find DAVIDSDK (missing: DAVIDSDK_LIBRARY DAVIDSDK_INCLUDE_DIR) \n",
            "** WARNING ** 2d features related to davidSDK will be disabled\n",
            "-- Could NOT find DSSDK (missing: _DSSDK_LIBRARIES) \n",
            "** WARNING ** 2d features related to dssdk will be disabled\n",
            "** WARNING ** 2d features related to pcap will be disabled\n",
            "** WARNING ** 2d features related to png will be disabled\n",
            "-- LIBUSB_1_LIBRARY (missing: LIBUSB_1_INCLUDE_DIR) \n",
            "** WARNING ** 2d features related to libusb-1.0 will be disabled\n",
            "-- Could NOT find ensenso (missing: ENSENSO_LIBRARY ENSENSO_INCLUDE_DIR) \n",
            "** WARNING ** visualization features related to ensenso will be disabled\n",
            "-- Could NOT find DAVIDSDK (missing: DAVIDSDK_LIBRARY DAVIDSDK_INCLUDE_DIR) \n",
            "** WARNING ** visualization features related to davidSDK will be disabled\n",
            "-- Could NOT find DSSDK (missing: _DSSDK_LIBRARIES) \n",
            "** WARNING ** visualization features related to dssdk will be disabled\n",
            "-- Could NOT find RSSDK (missing: _RSSDK_LIBRARIES) \n",
            "** WARNING ** visualization features related to rssdk will be disabled\n",
            "-- looking for PCL_COMMON\n",
            "-- looking for PCL_KDTREE\n",
            "-- looking for PCL_OCTREE\n",
            "-- looking for PCL_SEARCH\n",
            "-- looking for PCL_SAMPLE_CONSENSUS\n",
            "-- looking for PCL_FILTERS\n",
            "-- looking for PCL_GEOMETRY\n",
            "-- looking for PCL_IO\n",
            "-- looking for PCL_2D\n",
            "-- looking for PCL_FEATURES\n",
            "-- looking for PCL_ML\n",
            "-- looking for PCL_SEGMENTATION\n",
            "-- looking for PCL_VISUALIZATION\n",
            "-- Configuring done\n",
            "-- Generating done\n",
            "-- Build files have been written to: /content/point-cloud-retrieval-from-image/data/oxford/build\n",
            "\u001b[35m\u001b[1mScanning dependencies of target pcl_preprocessing\u001b[0m\n",
            "[ 50%] \u001b[32mBuilding CXX object CMakeFiles/pcl_preprocessing.dir/pcl_preprocessing.cpp.o\u001b[0m\n",
            "In file included from \u001b[01m\u001b[K/usr/include/pcl-1.8/pcl/sample_consensus/sac_model.h:52:0\u001b[m\u001b[K,\n",
            "                 from \u001b[01m\u001b[K/usr/include/pcl-1.8/pcl/sample_consensus/sac.h:45\u001b[m\u001b[K,\n",
            "                 from \u001b[01m\u001b[K/usr/include/pcl-1.8/pcl/segmentation/sac_segmentation.h:49\u001b[m\u001b[K,\n",
            "                 from \u001b[01m\u001b[K/content/point-cloud-retrieval-from-image/data/oxford/pcl_preprocessing.cpp:8\u001b[m\u001b[K:\n",
            "\u001b[01m\u001b[K/usr/include/pcl-1.8/pcl/sample_consensus/model_types.h:\u001b[m\u001b[K In function ‘\u001b[01m\u001b[Kvoid __static_initialization_and_destruction_0(int, int)\u001b[m\u001b[K’:\n",
            "\u001b[01m\u001b[K/usr/include/pcl-1.8/pcl/sample_consensus/model_types.h:99:3:\u001b[m\u001b[K \u001b[01;35m\u001b[Kwarning: \u001b[m\u001b[K‘\u001b[01m\u001b[Kpcl::SAC_SAMPLE_SIZE\u001b[m\u001b[K’ is deprecated: This map is deprecated and is kept only to prevent breaking existing user code. Starting from PCL 1.8.0 model sample size is a protected member of the SampleConsensusModel class [\u001b[01;35m\u001b[K-Wdeprecated-declarations\u001b[m\u001b[K]\n",
            "   \u001b[01;35m\u001b[KSAC_SAMPLE_SIZE\u001b[m\u001b[K (sample_size_pairs, sample_size_pairs + sizeof (sample_size_pairs) / sizeof (SampleSizeModel));\n",
            "   \u001b[01;35m\u001b[K^~~~~~~~~~~~~~~\u001b[m\u001b[K\n",
            "\u001b[01m\u001b[K/usr/include/pcl-1.8/pcl/sample_consensus/model_types.h:99:3:\u001b[m\u001b[K \u001b[01;36m\u001b[Knote: \u001b[m\u001b[Kdeclared here\n",
            "[100%] \u001b[32m\u001b[1mLinking CXX executable pcl_preprocessing\u001b[0m\n",
            "[100%] Built target pcl_preprocessing\n",
            "/content\n"
          ],
          "name": "stdout"
        }
      ]
    },
    {
      "cell_type": "markdown",
      "metadata": {
        "id": "QTJ7WRG-xMi2",
        "colab_type": "text"
      },
      "source": [
        "##Usage\n",
        "\n",
        "###The binary should now be in the *point-cloud-retrival-from-image/data/oxford/build/* folder. \n",
        "###Syntax: pcl_preprocessing \\<path_to_submap\\> \\[\\<output_dir\\>\\]\n",
        "###The downsampled map will be stored in the working directory if no output directiory is specified. The output directory should exist and will not be created by the binary. Name of the output file is fixed to input_name+\".processed\".\n",
        "\n",
        "###Test and example:"
      ]
    },
    {
      "cell_type": "code",
      "metadata": {
        "id": "vS_Gjkprs1We",
        "colab_type": "code",
        "colab": {
          "base_uri": "https://localhost:8080/",
          "height": 595
        },
        "outputId": "56db70bd-6aed-4460-c787-68d758d93ec9"
      },
      "source": [
        "%cd /content/point-cloud-retrieval-from-image/\n",
        "!mkdir data/oxford/processed\n",
        "\n",
        "!./data/oxford/build/pcl_preprocessing \"data/oxford/testmap.raw\" \"data/oxford/processed/\"\n",
        "\n",
        "import numpy as np\n",
        "print(np.fromfile(\"data/oxford/testmap.raw\",dtype=np.float32).reshape(3,-1))\n",
        "print(np.fromfile(\"data/oxford/processed/testmap.raw.processed\",dtype=np.float32).reshape(3,4096))"
      ],
      "execution_count": 50,
      "outputs": [
        {
          "output_type": "stream",
          "text": [
            "/content/point-cloud-retrieval-from-image\n",
            "mkdir: cannot create directory ‘data/oxford/processed’: File exists\n",
            "size of vec_t 4\n",
            "File length 995244 Bytes\n",
            "Reading point cloud from file data/oxford/testmap.raw\n",
            "Cloud consists of 82937 points\n",
            "62353 points classified as ground and removed\n",
            "Downsampling with a leaf size of 0.347511\n",
            "Downsampled cloud contains 2744 points\n",
            "Modifying leaf size and trying again\n",
            "Downsampling with a leaf size of 0.304072\n",
            "Downsampled cloud contains 3429 points\n",
            "Modifying leaf size and trying again\n",
            "Downsampling with a leaf size of 0.28658\n",
            "Downsampled cloud contains 3748 points\n",
            "Modifying leaf size and trying again\n",
            "Downsampling with a leaf size of 0.278223\n",
            "Downsampled cloud contains 3874 points\n",
            "Modifying leaf size and trying again\n",
            "Downsampling with a leaf size of 0.273102\n",
            "Downsampled cloud contains 4067 points\n",
            "Point cloud written to data/oxford/processed/testmap.raw.processed\n",
            "[[  9.097892    8.986618    8.940401  ... -10.941814  -10.935291\n",
            "  -10.905083 ]\n",
            " [  5.588634    6.067285    6.269658  ...   4.1574793   4.130513\n",
            "    3.8969727]\n",
            " [  3.7398622   3.7220597   3.685799  ...  -1.2635623  -1.3373525\n",
            "   -1.2138493]]\n",
            "[[  1.1867907    1.4009737    0.07671045 ...   2.9644818    6.922249\n",
            "   -6.507961  ]\n",
            " [-11.233298   -11.288933   -10.958385   ...   5.769892    -7.1499343\n",
            "    4.1630235 ]\n",
            " [ -4.463525    -4.484469    -4.435236   ...  -1.2092347    1.8772295\n",
            "    1.2377299 ]]\n"
          ],
          "name": "stdout"
        }
      ]
    }
  ]
}