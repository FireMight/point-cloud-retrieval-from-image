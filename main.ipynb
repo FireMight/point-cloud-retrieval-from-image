{
  "nbformat": 4,
  "nbformat_minor": 0,
  "metadata": {
    "colab": {
      "name": "Copy of main.ipynb",
      "version": "0.3.2",
      "provenance": [],
      "private_outputs": true,
      "collapsed_sections": [],
      "include_colab_link": true
    },
    "language_info": {
      "codemirror_mode": {
        "name": "ipython",
        "version": 3
      },
      "file_extension": ".py",
      "mimetype": "text/x-python",
      "name": "python",
      "nbconvert_exporter": "python",
      "pygments_lexer": "ipython3",
      "version": "3.6.8"
    },
    "kernelspec": {
      "name": "python3",
      "display_name": "Python 3"
    },
    "accelerator": "GPU"
  },
  "cells": [
    {
      "cell_type": "markdown",
      "metadata": {
        "id": "view-in-github",
        "colab_type": "text"
      },
      "source": [
        "<a href=\"https://colab.research.google.com/github/FireMight/point-cloud-retrieval-from-image/blob/master/main.ipynb\" target=\"_parent\"><img src=\"https://colab.research.google.com/assets/colab-badge.svg\" alt=\"Open In Colab\"/></a>"
      ]
    },
    {
      "cell_type": "code",
      "metadata": {
        "id": "EeU9DKTVavG6",
        "colab_type": "code",
        "colab": {}
      },
      "source": [
        "%cd /content\n",
        "!git clone --recurse-submodules https://github.com/FireMight/point-cloud-retrieval-from-image.git\n",
        "%cd /content/point-cloud-retrieval-from-image/"
      ],
      "execution_count": 0,
      "outputs": []
    },
    {
      "cell_type": "code",
      "metadata": {
        "id": "dBomKJ29I69m",
        "colab_type": "code",
        "colab": {}
      },
      "source": [
        "%cd /content/point-cloud-retrieval-from-image/\n",
        "!git pull"
      ],
      "execution_count": 0,
      "outputs": []
    },
    {
      "cell_type": "code",
      "metadata": {
        "id": "E0NAt96Scuov",
        "colab_type": "code",
        "colab": {}
      },
      "source": [
        "# load data\n",
        "from google.colab import drive\n",
        "\n",
        "drive.mount('/content/drive')\n",
        "%cd /content/point-cloud-retrieval-from-image/\n",
        "!mkdir -p data/oxford/data/reference\n",
        "!tar -C data/oxford/data/reference -xf '/content/drive/My Drive/ADL4CV/downloads/oxford_dataset/reference/submaps_20m/submaps_20m_processed.tar.xz'\n",
        "!cp -a '/content/drive/My Drive/ADL4CV/downloads/oxford_dataset/reference/submaps_20m/metadata.csv' data/oxford/data/reference/submaps_20m_processed/\n",
        "!mkdir -p data/oxford/data/reference/stereo/centre\n",
        "!tar -C data/oxford/data/reference/stereo/centre -xf '/content/drive/My Drive/ADL4CV/downloads/oxford_dataset/reference/img_center_5/img_20_0-1921.tar.gz'"
      ],
      "execution_count": 0,
      "outputs": []
    },
    {
      "cell_type": "code",
      "metadata": {
        "id": "VHap3SzCkZSU",
        "colab_type": "code",
        "colab": {}
      },
      "source": [
        "# load pretrained model\n",
        "!unzip '/content/drive/My Drive/ADL4CV/models/vgg16_netvlad_checkpoint.zip' -d 'models/'"
      ],
      "execution_count": 0,
      "outputs": []
    },
    {
      "cell_type": "code",
      "metadata": {
        "id": "RM7nHpHvbYbE",
        "colab_type": "code",
        "colab": {}
      },
      "source": [
        "%cd /content/point-cloud-retrieval-from-image/\n",
        "from itertools import chain\n",
        "import numpy as np\n",
        "\n",
        "import torch\n",
        "import torch.nn as nn\n",
        "import torchvision.models as models\n",
        "import torchvision\n",
        "\n",
        "import netvlad.netvlad as netvlad\n",
        "import pointnet.pointnet.model as pointnet\n",
        "from data.OxfordRobotcarDataset import OxfordRobotcarDataset\n",
        "\n",
        "net_vlad_path = 'models/vgg16_netvlad_checkpoint/checkpoints/checkpoint.pth.tar'\n",
        "img_data_path = 'data/oxford/data/reference/stereo/centre/'\n",
        "pcl_data_path = 'data/oxford/data/reference/submaps_20m_processed/'"
      ],
      "execution_count": 0,
      "outputs": []
    },
    {
      "cell_type": "code",
      "metadata": {
        "id": "8LCek0sumlQE",
        "colab_type": "code",
        "colab": {}
      },
      "source": [
        "class TripletLoss(nn.Module):\n",
        "    \"\"\"\n",
        "    Triplet loss\n",
        "    Takes embeddings of an anchor sample, a positive sample and a negative sample\n",
        "    \"\"\"\n",
        "\n",
        "    def __init__(self, margin = 1.0):\n",
        "        super(TripletLoss, self).__init__()\n",
        "        self.margin = margin\n",
        "\n",
        "    def forward(self, anchor, positive, negative, size_average=True):\n",
        "        distance_positive = (anchor - positive).pow(2).sum(1)  # .pow(.5)\n",
        "        distance_negative = (anchor - negative).pow(2).sum(1)  # .pow(.5)\n",
        "        losses = nn.functional.relu(distance_positive - distance_negative + self.margin)\n",
        "        return losses.mean() if size_average else losses.sum()\n",
        "\n",
        "#appends a FC linear to transform output descriptor to appropriate dimenstion\n",
        "#TODO: make a nice wrapper for NetVLAD\n",
        "class ModifiedNetVLAD(nn.Module):\n",
        "    def __init__(self, model,out_features):\n",
        "        super(ModifiedNetVLAD, self).__init__()\n",
        "        self.vlad = model\n",
        "        self.fc = nn.Linear(32768, out_features)\n",
        "\n",
        "        \n",
        "    def forward(self, x):\n",
        "        x = self.vlad.pool(self.vlad.encoder(x))\n",
        "        x = x.view((x.shape[0],32768))\n",
        "        x = self.fc(x)\n",
        "        return x\n",
        "\n",
        "def load_netvlad(checkpoint_path):\n",
        "    encoder_dim = 512\n",
        "    encoder = models.vgg16(pretrained=False)\n",
        "    layers = list(encoder.features.children())[:-2]\n",
        "    encoder = nn.Sequential(*layers)    \n",
        "    model = nn.Module()\n",
        "    model.add_module('encoder', encoder)\n",
        "    vlad_layer = netvlad.NetVLAD(num_clusters=64, dim=encoder_dim, vladv2=False)\n",
        "    model.add_module('pool',vlad_layer)\n",
        "    \n",
        "    checkpoint = torch.load(checkpoint_path,map_location=lambda storage, loc: storage)\n",
        "    model.load_state_dict(checkpoint['state_dict'])\n",
        "    return model\n",
        "\n",
        "def index_nn(img_desc, pcl_desc_list):\n",
        "    min_dist = (img_desc - pcl_desc_list[0]).norm()\n",
        "    min_idx = 0\n",
        "    for idx,pcl_desc in enumerate(pcl_desc_list):\n",
        "        if (img_desc - pcl_desc).norm() < min_dist:\n",
        "            min_dist = (img_desc - pcl_desc).norm()\n",
        "            min_idx = idx\n",
        "\n",
        "\n",
        "#overfit to single sample (single image, single pcl); descriptors should be exactly equal\n",
        "if __name__ == '__main__':\n",
        "    if not torch.cuda.is_available():\n",
        "        print('Failed to connect to a GPU. Are you sure you are using the correct runtime type?')\n",
        "        \n",
        "    device = torch.device(\"cuda:0\" if torch.cuda.is_available() else \"cpu\")\n",
        "    \n",
        "    #set up models\n",
        "    \n",
        "    torch.cuda.empty_cache()\n",
        "    \n",
        "    #input: image, output 32K desc\n",
        "    img_net = load_netvlad(net_vlad_path)\n",
        "    #append FC layer to reduce to 1K desc\n",
        "    img_net = ModifiedNetVLAD(img_net,1024)\n",
        "    \n",
        "    #input: pcl. output 1K desc\n",
        "    pcl_net = pointnet.PointNetfeat(True,True)\n",
        "    \n",
        "    img_net.to(device)\n",
        "    pcl_net.to(device)\n",
        "    \n",
        "    \n",
        "    dataset = OxfordRobotcarDataset(img_dir=img_data_path,\\\n",
        "                                    img_net=img_net,\\\n",
        "                                    pcl_dir=pcl_data_path,\\\n",
        "                                    pcl_net=pcl_net,\\\n",
        "                                    tuple_type='simple',\\\n",
        "                                    device=device)\n",
        "    \n",
        "    test_size = int(0.1*len(dataset))\n",
        "    train_size = len(dataset) - 2*test_size \n",
        "    train_set, val_set, test_set = torch.utils.data.random_split(dataset,[train_size,test_size,test_size])\n",
        "    \n",
        "    small_set,_ = torch.utils.data.random_split(dataset,[64,len(dataset)-64])\n",
        "    small_set_loader = torch.utils.data.DataLoader(small_set,batch_size=64)\n",
        "    \n",
        "    train_loader = torch.utils.data.DataLoader(train_set, batch_size=64, shuffle=True)\n",
        "    val_loader = torch.utils.data.DataLoader(val_set, batch_size=64, shuffle=False)\n",
        "    \n",
        "    optim = torch.optim.Adam(chain(img_net.parameters(),pcl_net.parameters()),lr=5e-4)\n",
        "    scheduler = torch.optim.lr_scheduler.ReduceLROnPlateau(optim,verbose=True)\n",
        "    optim.zero_grad()\n",
        "    \n",
        "    tl=TripletLoss(5);\n",
        "    train_losses_history = []\n",
        "    val_losses_history = []\n",
        "    num_epochs = 500\n",
        "    #train\n",
        "    for i in range(num_epochs):\n",
        "        train_loss_sum = 0\n",
        "        img_net.train()\n",
        "        pcl_net.train()\n",
        "        for img, pos in small_set_loader:\n",
        "            # we need a batch size of at least 2 to run the sample trough PointNet\n",
        "            if(img.size()[0]==1):\n",
        "                continue\n",
        "            with torch.no_grad():\n",
        "                tmp_desc = img_net.vlad.pool(img_net.vlad.encoder(img))\n",
        "                tmp_desc = tmp_desc.view((tmp_desc.shape[0],32768))\n",
        "                \n",
        "            img_desc = img_net.fc(tmp_desc)\n",
        "            pos_desc,_,_ = pcl_net(pos)\n",
        "            #neg_desc,_,_ = pcl_net(neg)\n",
        "            loss = nn.functional.mse_loss(img_desc,pos_desc,reduction='sum')\n",
        "            train_loss_sum += loss.detach()\n",
        "            #print(\"Loss {}\".format(loss))\n",
        "            loss.backward()\n",
        "            optim.step()\n",
        "            \n",
        "        train_loss_sum/=len(small_set)\n",
        "        train_losses_history.append(train_loss_sum)\n",
        "        print(\"Loss: {}\".format(train_loss_sum))\n",
        "        scheduler.step(train_loss_sum)\n",
        "        \n",
        "            \n",
        "with torch.no_grad():\n",
        "    img_net.eval()\n",
        "    pcl_net.eval()\n",
        "    pcl_descs = []\n",
        "    img_descs = []\n",
        "\n",
        "    for img,pos in small_set_loader:\n",
        "        img_desc = img_net(img)\n",
        "        pos_desc,_,_ = pcl_net(pos)\n",
        "        for j in range(0,img_desc.size()[0]):\n",
        "            img_descs.append(img_desc[j,:].detach())\n",
        "            pcl_descs.append(pos_desc[j,:].detach())\n",
        "\n",
        "    num_correct = 0\n",
        "    for j,img_desc in enumerate(img_descs):\n",
        "        idx_nn = index_nn(img_desc,pcl_descs)\n",
        "        if idx_nn == j:\n",
        "            num_correct += 1\n",
        "    print (\"recall@1 train:  {}\\n\".format(num_correct/len(val_set)))"
      ],
      "execution_count": 0,
      "outputs": []
    },
    {
      "cell_type": "code",
      "metadata": {
        "id": "Yv3Zi0Mkqhgr",
        "colab_type": "code",
        "colab": {}
      },
      "source": [
        "        with torch.no_grad():\n",
        "            val_loss_sum = 0\n",
        "            pcl_descs = []\n",
        "            img_descs = []\n",
        "            \n",
        "            img_net.eval()\n",
        "            pcl_net.eval()\n",
        "\n",
        "            for img,pos in val_loader:\n",
        "                img_desc = img_net(img)\n",
        "                pos_desc,_,_ = pcl_net(pos)\n",
        "                #neg_desc,_,_ = pcl_net(neg)\n",
        "                for j in range(0,img_desc.size()[0]):\n",
        "                    img_descs.append(img_desc[j,:].detach())\n",
        "                    pcl_descs.append(pos_desc[j,:].detach())\n",
        "                #loss = tl(img_desc,pos_desc,neg_desc,False)\n",
        "                loss = nn.functional.mse_loss(img_desc,pos_desc,reduction='sum')\n",
        "                val_loss_sum += loss.detach()\n",
        "            \n",
        "            train_loss_sum /= len(train_set)\n",
        "            train_losses_history.append(train_loss_sum)\n",
        "            val_loss_sum /= len(val_set)\n",
        "            val_losses_history.append(val_loss_sum)\n",
        "            \n",
        "            num_correct = 0\n",
        "            for j,img_desc in enumerate(img_descs):\n",
        "                idx_nn = index_nn(img_desc,pcl_descs)\n",
        "                if idx_nn == j:\n",
        "                    num_correct += 1\n",
        "            print (\"Epoch {}/{}\\n\".format(i,num_epochs) +\\\n",
        "                   \"training loss:   {}\\n\".format(train_loss_sum) +\\\n",
        "                   \"validation loss: {}\\n\".format(val_loss_sum) +\\\n",
        "                   \"recall@1:        {}\\n\".format(num_correct/len(val_set)))"
      ],
      "execution_count": 0,
      "outputs": []
    },
    {
      "cell_type": "code",
      "metadata": {
        "id": "XfYtXlI5SMNj",
        "colab_type": "code",
        "colab": {}
      },
      "source": [
        "# check recall for training set, quite time consuming, so don't do it during training\n",
        "with torch.no_grad():\n",
        "    img_net.eval()\n",
        "    pcl_net.eval()\n",
        "    pcl_descs = []\n",
        "    img_descs = []\n",
        "\n",
        "    for img,pos in small_set_loader:\n",
        "        img_desc = img_net(img)\n",
        "        pos_desc,_,_ = pcl_net(pos)\n",
        "        for j in range(0,img_desc.size()[0]):\n",
        "            img_descs.append(img_desc[j,:].detach())\n",
        "            pcl_descs.append(pos_desc[j,:].detach())\n",
        "\n",
        "    num_correct = 0\n",
        "    for j,img_desc in enumerate(img_descs):\n",
        "        idx_nn = index_nn(img_desc,pcl_descs)\n",
        "        if idx_nn == j:\n",
        "            num_correct += 1\n",
        "    print (\"recall@1 train:  {}\\n\".format(num_correct/len(val_set)))"
      ],
      "execution_count": 0,
      "outputs": []
    },
    {
      "cell_type": "code",
      "metadata": {
        "id": "afWCMOU1GB51",
        "colab_type": "code",
        "colab": {}
      },
      "source": [
        "import matplotlib.pyplot as plt\n",
        "from matplotlib.pyplot import figure\n",
        "\n",
        "fig = figure(figsize=(16,8))\n",
        "fig.gca().plot(train_losses_history)\n",
        "plt.xlabel('epochs')\n",
        "plt.ylabel('loss')\n",
        "fig.savefig('loss.jpg')"
      ],
      "execution_count": 0,
      "outputs": []
    },
    {
      "cell_type": "markdown",
      "metadata": {
        "id": "wi1jCztxZp9J",
        "colab_type": "text"
      },
      "source": [
        ""
      ]
    }
  ]
}