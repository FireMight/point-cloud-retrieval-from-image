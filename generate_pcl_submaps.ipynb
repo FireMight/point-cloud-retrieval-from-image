{
  "nbformat": 4,
  "nbformat_minor": 0,
  "metadata": {
    "colab": {
      "name": "generate_pcl_submaps.ipynb",
      "version": "0.3.2",
      "provenance": [],
      "collapsed_sections": [],
      "include_colab_link": true
    },
    "kernelspec": {
      "name": "python3",
      "display_name": "Python 3"
    }
  },
  "cells": [
    {
      "cell_type": "markdown",
      "metadata": {
        "id": "view-in-github",
        "colab_type": "text"
      },
      "source": [
        "<a href=\"https://colab.research.google.com/github/FireMight/point-cloud-retrieval-from-image/blob/master/generate_pcl_submaps.ipynb\" target=\"_parent\"><img src=\"https://colab.research.google.com/assets/colab-badge.svg\" alt=\"Open In Colab\"/></a>"
      ]
    },
    {
      "cell_type": "code",
      "metadata": {
        "id": "jejTZ5WVVBjX",
        "colab_type": "code",
        "colab": {
          "base_uri": "https://localhost:8080/",
          "height": 173
        },
        "outputId": "d07c5e4a-73bf-4427-ca91-48030ff5abe7"
      },
      "source": [
        "!git clone https://github.com/FireMight/point-cloud-retrieval-from-image.git\n",
        "%cd /content/point-cloud-retrieval-from-image\n",
        "!git submodule update --init --recursive\n",
        "%cd .."
      ],
      "execution_count": 16,
      "outputs": [
        {
          "output_type": "stream",
          "text": [
            "Cloning into 'point-cloud-retrieval-from-image'...\n",
            "remote: Enumerating objects: 320, done.\u001b[K\n",
            "remote: Counting objects:   0% (1/320)   \u001b[K\rremote: Counting objects:   1% (4/320)   \u001b[K\rremote: Counting objects:   2% (7/320)   \u001b[K\rremote: Counting objects:   3% (10/320)   \u001b[K\rremote: Counting objects:   4% (13/320)   \u001b[K\rremote: Counting objects:   5% (16/320)   \u001b[K\rremote: Counting objects:   6% (20/320)   \u001b[K\rremote: Counting objects:   7% (23/320)   \u001b[K\rremote: Counting objects:   8% (26/320)   \u001b[K\rremote: Counting objects:   9% (29/320)   \u001b[K\rremote: Counting objects:  10% (32/320)   \u001b[K\rremote: Counting objects:  11% (36/320)   \u001b[K\rremote: Counting objects:  12% (39/320)   \u001b[K\rremote: Counting objects:  13% (42/320)   \u001b[K\rremote: Counting objects:  14% (45/320)   \u001b[K\rremote: Counting objects:  15% (48/320)   \u001b[K\rremote: Counting objects:  16% (52/320)   \u001b[K\rremote: Counting objects:  17% (55/320)   \u001b[K\rremote: Counting objects:  18% (58/320)   \u001b[K\rremote: Counting objects:  19% (61/320)   \u001b[K\rremote: Counting objects:  20% (64/320)   \u001b[K\rremote: Counting objects:  21% (68/320)   \u001b[K\rremote: Counting objects:  22% (71/320)   \u001b[K\rremote: Counting objects:  23% (74/320)   \u001b[K\rremote: Counting objects:  24% (77/320)   \u001b[K\rremote: Counting objects:  25% (80/320)   \u001b[K\rremote: Counting objects:  26% (84/320)   \u001b[K\rremote: Counting objects:  27% (87/320)   \u001b[K\rremote: Counting objects:  28% (90/320)   \u001b[K\rremote: Counting objects:  29% (93/320)   \u001b[K\rremote: Counting objects:  30% (96/320)   \u001b[K\rremote: Counting objects:  31% (100/320)   \u001b[K\rremote: Counting objects:  32% (103/320)   \u001b[K\rremote: Counting objects:  33% (106/320)   \u001b[K\rremote: Counting objects:  34% (109/320)   \u001b[K\rremote: Counting objects:  35% (112/320)   \u001b[K\rremote: Counting objects:  36% (116/320)   \u001b[K\rremote: Counting objects:  37% (119/320)   \u001b[K\rremote: Counting objects:  38% (122/320)   \u001b[K\rremote: Counting objects:  39% (125/320)   \u001b[K\rremote: Counting objects:  40% (128/320)   \u001b[K\rremote: Counting objects:  41% (132/320)   \u001b[K\rremote: Counting objects:  42% (135/320)   \u001b[K\rremote: Counting objects:  43% (138/320)   \u001b[K\rremote: Counting objects:  44% (141/320)   \u001b[K\rremote: Counting objects:  45% (144/320)   \u001b[K\rremote: Counting objects:  46% (148/320)   \u001b[K\rremote: Counting objects:  47% (151/320)   \u001b[K\rremote: Counting objects:  48% (154/320)   \u001b[K\rremote: Counting objects:  49% (157/320)   \u001b[K\rremote: Counting objects:  50% (160/320)   \u001b[K\rremote: Counting objects:  51% (164/320)   \u001b[K\rremote: Counting objects:  52% (167/320)   \u001b[K\rremote: Counting objects:  53% (170/320)   \u001b[K\rremote: Counting objects:  54% (173/320)   \u001b[K\rremote: Counting objects:  55% (176/320)   \u001b[K\rremote: Counting objects:  56% (180/320)   \u001b[K\rremote: Counting objects:  57% (183/320)   \u001b[K\rremote: Counting objects:  58% (186/320)   \u001b[K\rremote: Counting objects:  59% (189/320)   \u001b[K\rremote: Counting objects:  60% (192/320)   \u001b[K\rremote: Counting objects:  61% (196/320)   \u001b[K\rremote: Counting objects:  62% (199/320)   \u001b[K\rremote: Counting objects:  63% (202/320)   \u001b[K\rremote: Counting objects:  64% (205/320)   \u001b[K\rremote: Counting objects:  65% (208/320)   \u001b[K\rremote: Counting objects:  66% (212/320)   \u001b[K\rremote: Counting objects:  67% (215/320)   \u001b[K\rremote: Counting objects:  68% (218/320)   \u001b[K\rremote: Counting objects:  69% (221/320)   \u001b[K\rremote: Counting objects:  70% (224/320)   \u001b[K\rremote: Counting objects:  71% (228/320)   \u001b[K\rremote: Counting objects:  72% (231/320)   \u001b[K\rremote: Counting objects:  73% (234/320)   \u001b[K\rremote: Counting objects:  74% (237/320)   \u001b[K\rremote: Counting objects:  75% (240/320)   \u001b[K\rremote: Counting objects:  76% (244/320)   \u001b[K\rremote: Counting objects:  77% (247/320)   \u001b[K\rremote: Counting objects:  78% (250/320)   \u001b[K\rremote: Counting objects:  79% (253/320)   \u001b[K\rremote: Counting objects:  80% (256/320)   \u001b[K\rremote: Counting objects:  81% (260/320)   \u001b[K\rremote: Counting objects:  82% (263/320)   \u001b[K\rremote: Counting objects:  83% (266/320)   \u001b[K\rremote: Counting objects:  84% (269/320)   \u001b[K\rremote: Counting objects:  85% (272/320)   \u001b[K\rremote: Counting objects:  86% (276/320)   \u001b[K\rremote: Counting objects:  87% (279/320)   \u001b[K\rremote: Counting objects:  88% (282/320)   \u001b[K\rremote: Counting objects:  89% (285/320)   \u001b[K\rremote: Counting objects:  90% (288/320)   \u001b[K\rremote: Counting objects:  91% (292/320)   \u001b[K\rremote: Counting objects:  92% (295/320)   \u001b[K\rremote: Counting objects:  93% (298/320)   \u001b[K\rremote: Counting objects:  94% (301/320)   \u001b[K\rremote: Counting objects:  95% (304/320)   \u001b[K\rremote: Counting objects:  96% (308/320)   \u001b[K\rremote: Counting objects:  97% (311/320)   \u001b[K\rremote: Counting objects:  98% (314/320)   \u001b[K\rremote: Counting objects:  99% (317/320)   \u001b[K\rremote: Counting objects: 100% (320/320)   \u001b[K\rremote: Counting objects: 100% (320/320), done.\u001b[K\n",
            "remote: Compressing objects: 100% (130/130), done.\u001b[K\n",
            "remote: Total 320 (delta 137), reused 318 (delta 135), pack-reused 0\u001b[K\n",
            "Receiving objects: 100% (320/320), 14.21 MiB | 24.50 MiB/s, done.\n",
            "Resolving deltas: 100% (137/137), done.\n",
            "/content/point-cloud-retrieval-from-image\n",
            "/content\n"
          ],
          "name": "stdout"
        }
      ]
    },
    {
      "cell_type": "code",
      "metadata": {
        "id": "d3oTLMRcUHuN",
        "colab_type": "code",
        "colab": {}
      },
      "source": [
        "import os\n",
        "import csv\n",
        "import sys\n",
        "import numpy as np\n",
        "from scipy.spatial.transform import Rotation\n",
        "from google.colab import drive\n",
        "\n",
        "sdk_dir = '/content/point-cloud-retrieval-from-image/data/oxford/robotcar-dataset-sdk'\n",
        "sys.path.insert(0, sdk_dir + '/python')\n",
        "import build_pointcloud as sdk_pcl"
      ],
      "execution_count": 0,
      "outputs": []
    },
    {
      "cell_type": "code",
      "metadata": {
        "id": "F0Y3DswOOhn3",
        "colab_type": "code",
        "colab": {
          "base_uri": "https://localhost:8080/",
          "height": 54
        },
        "outputId": "ec5f96db-a573-4954-8e8e-04d0ad5df5ea"
      },
      "source": [
        "drive.mount('/content/drive')\n",
        "project_dir = '/content/drive/My Drive/ADL4CV'\n",
        "\n",
        "run_id = 'reference'\n",
        "data_dir = project_dir + '/downloads/oxford_dataset/' + run_id\n",
        "lms_dir = data_dir + '/lms_front'\n",
        "lms_timestamps_file = data_dir + '/lms_front.timestamps'\n",
        "gps_dir = data_dir + '/gps'\n",
        "ins_data_file = gps_dir + '/ins.csv'\n",
        "extrinsics_dir = sdk_dir + '/extrinsics'"
      ],
      "execution_count": 2,
      "outputs": [
        {
          "output_type": "stream",
          "text": [
            "Drive already mounted at /content/drive; to attempt to forcibly remount, call drive.mount(\"/content/drive\", force_remount=True).\n"
          ],
          "name": "stdout"
        }
      ]
    },
    {
      "cell_type": "code",
      "metadata": {
        "id": "NLvqzeW_OxId",
        "colab_type": "code",
        "colab": {}
      },
      "source": [
        "class PointcloudLoader():\n",
        "    def __init__(self):\n",
        "        self.trajectory_ned = None\n",
        "        self.pointcloud_ned = None\n",
        "    \n",
        "    def load_ned_trajectory(self):\n",
        "        # Get start and end timestamp of LIDAR measurements\n",
        "        print('Get start and end time of LIADR measurements...')\n",
        "        with open(lms_timestamps_file) as ts_file:\n",
        "            start_time = int(next(ts_file).split(' ')[0])\n",
        "            for end_time in ts_file:\n",
        "                continue\n",
        "            end_time = int(end_time.split(' ')[0])\n",
        "        print('Done!')\n",
        "\n",
        "        # Check if NED trajectory has already been computed\n",
        "        trajectory_file = gps_dir + '/ned_trajectory_ins_{}.npy'.format(run_id)\n",
        "        print('Search for precomputed NED trajectory ' + trajectory_file + '...')\n",
        "\n",
        "        try:\n",
        "            self.trajectory_ned = np.load(trajectory_file)\n",
        "            print('Done!')\n",
        "        except:\n",
        "            # Get trajectory corresponding to LIDAR data\n",
        "            print('Not found! Create NED trajectory from INS data...')\n",
        "            self.trajectory_ned = np.empty((7,0))\n",
        "            with open(ins_data_file, 'r') as ins_file:\n",
        "                reader = csv.DictReader(ins_file)\n",
        "                for row in reader:\n",
        "                    if int(row['timestamp']) > end_time:\n",
        "                        break\n",
        "                    if int(row['timestamp']) < start_time:\n",
        "                        continue\n",
        "                    ned_state = np.array([float(row['northing']),\n",
        "                                          float(row['easting']),\n",
        "                                          float(row['down']),\n",
        "                                          float(row['roll']),\n",
        "                                          float(row['pitch']),\n",
        "                                          float(row['yaw']),\n",
        "                                          float(row['timestamp'])]).reshape(7,1)\n",
        "                    self.trajectory_ned = np.append(self.trajectory_ned, \n",
        "                                                    ned_state, axis=1)\n",
        "            print('Done! Trajectory with {} samples'.format(\n",
        "                                                  self.trajectory_ned.shape[1]))\n",
        "\n",
        "            # Save trajectory\n",
        "            print('Save NED trajectory to ' + trajectory_file + '...')\n",
        "            np.save(trajectory_file, self.trajectory_ned)\n",
        "            print('Done!')\n",
        "            \n",
        "    def load_ned_pointcloud(self):\n",
        "        # Check if NED pointcloud has already been computed\n",
        "        pointcloud_file = lms_dir + '/ned_pointcloud_{}.npy'.format(run_id)\n",
        "        print('Search for precomputed NED pointcloud ' + pointcloud_file + '...')\n",
        "\n",
        "        try:\n",
        "            self.pointcloud_ned = np.load(pointcloud_file)\n",
        "            print('Done!')\n",
        "        except:\n",
        "            # Construct pointcloud from lms measurements\n",
        "            print('Not found! Create pointcloud in vehicle reference system from LMS data...')\n",
        "            \n",
        "            start_time = self.trajectory_ned[6,0]\n",
        "            end_time = self.trajectory_ned[6,-1]\n",
        "\n",
        "            # Build pointcloud in vehicle reference frame\n",
        "            pointcloud_veh, _ = sdk_pcl.build_pointcloud(lms_dir, ins_data_file, \n",
        "                                                         extrinsics_dir, \n",
        "                                                         start_time, end_time)\n",
        "            print('Done!')\n",
        "            print('Transform pointcloud to NED system...')\n",
        "\n",
        "            # Transform pointlcoud to NED system\n",
        "            state_first_frame = self.trajectory_ned[:,0].flatten()\n",
        "            self.pointcloud_ned = self.pcl_trafo(pointcloud_veh, \n",
        "                                            trans_newref=state_first_frame[:3], \n",
        "                                            rot=state_first_frame[3:])\n",
        "            print('Done!')            \n",
        "            \n",
        "\n",
        "            # Save pointcloud\n",
        "            print('Save NED pointcloud to ' + pointcloud_file + '...')\n",
        "            np.save(pointcloud_file, self.pointcloud_ned)\n",
        "            print('Done!')\n",
        "            \n",
        "    def generate_submaps(self, length, spacing, width=None):\n",
        "        # Create directory and metadata csv file\n",
        "        submap_dir = data_dir + '/submaps_{}m'.format(int(length))\n",
        "        if not os.path.isdir(submap_dir):\n",
        "            os.mkdir(submap_dir)\n",
        "        \n",
        "        metadata_fieldnames = ['seg_idx', \n",
        "                               'timestamp_start',\n",
        "                               'northing_start',\n",
        "                               'easting_start',\n",
        "                               'down_start',\n",
        "                               'heading_start', \n",
        "                               'timestamp_center',\n",
        "                               'northing_center',\n",
        "                               'easting_center',\n",
        "                               'down_center',\n",
        "                               'heading_center']\n",
        "        metadata_csv = submap_dir + '/metadata.csv'\n",
        "        with open(metadata_csv, 'w') as outcsv:\n",
        "            writer = csv.DictWriter(outcsv, metadata_fieldnames)\n",
        "            writer.writeheader()\n",
        "        \n",
        "        # Walk along trajectory and create equally spaced submaps\n",
        "        \n",
        "        \n",
        "            \n",
        "    def get_pcl_segment(self, center_idx, coverage, alignment='north_east', \n",
        "                        width=None):\n",
        "        # Get center position on trajectory\n",
        "        center_pos = self.trajectory_ned[[0,1,2], center_idx]  \n",
        "\n",
        "        if alignment == 'north_east':\n",
        "            # Get all points with north and east coordinate within coverage/2\n",
        "            box_min = center_pos - coverage/2\n",
        "            box_max = center_pos + coverage/2\n",
        "            mask = np.array(np.logical_and(np.logical_and(self.pointcloud_ned[0,:]>=box_min[0],\n",
        "                                                          self.pointcloud_ned[0,:]<box_max[0]),\n",
        "                                           np.logical_and(self.pointcloud_ned[1,:]>=box_min[1], \n",
        "                                                          self.pointcloud_ned[1,:]<box_max[1]))).squeeze()\n",
        "            pcl_segment = self.pointcloud_ned[:,mask]\n",
        "\n",
        "        elif alignment == 'trajectory':        \n",
        "            # Bounding box length in trajectory direction, optional width orthogonal\n",
        "            center_heading = self.trajectory_ned[5, center_idx]\n",
        "\n",
        "            # Consider different width if specified, else use quadratic box\n",
        "            if width is None:\n",
        "                width = coverage\n",
        "\n",
        "            # Only considere points within certain range of the center point\n",
        "            r_max = np.sqrt(2 * pow(max(coverage, width)/2, 2))\n",
        "            r = np.linalg.norm(self.pointcloud_ned[:2,:] - center_pos[:2].reshape(2,1), \n",
        "                               axis=0)\n",
        "\n",
        "            pcl_ned = self.pointcloud_ned[:, r < r_max]\n",
        "\n",
        "            # Rotate pointcloud into bounding box reference system.\n",
        "            pcl_bb = self.pcl_trafo(pcl_ned, trans_oldref=-center_pos, \n",
        "                                    rot=np.array([0, 0, -center_heading]))\n",
        "\n",
        "            # Get extend of bounding box\n",
        "            box_max = np.array([coverage/2, width/2, 0])\n",
        "            box_min = -1 * box_max\n",
        "\n",
        "            mask = np.array(np.logical_and(np.logical_and(pcl_bb[0,:]>=box_min[0],\n",
        "                                                          pcl_bb[0,:]<box_max[0]),\n",
        "                                           np.logical_and(pcl_bb[1,:]>=box_min[1], \n",
        "                                                          pcl_bb[1,:]<box_max[1]))).squeeze()\n",
        "\n",
        "            # Get segment from untransformed PCL\n",
        "            pcl_segment = pcl_ned[:,mask]\n",
        "\n",
        "        else:\n",
        "            raise ValueError('Wrong bounding box alignment specified: ' + alignment)\n",
        "\n",
        "        return pcl_segment\n",
        "    \n",
        "    def pcl_trafo(self, pcl, trans_oldref=np.zeros(3), trans_newref=np.zeros(3), \n",
        "                  rot=np.zeros(3)):\n",
        "        R = (Rotation.from_euler('x', rot[0]).as_dcm() @\n",
        "             Rotation.from_euler('y', rot[1]).as_dcm() @\n",
        "             Rotation.from_euler('z', rot[2]).as_dcm())\n",
        "\n",
        "        pcl_new = R @ (pcl[:3,:] + trans_oldref.reshape(3,1)) + trans_newref.reshape(3,1)    \n",
        "        return np.vstack((pcl_new, np.ones((1, pcl_new.shape[1]))))\n",
        "        "
      ],
      "execution_count": 0,
      "outputs": []
    },
    {
      "cell_type": "code",
      "metadata": {
        "id": "OO2TcqNeHu12",
        "colab_type": "code",
        "colab": {
          "base_uri": "https://localhost:8080/",
          "height": 141
        },
        "outputId": "4f6d2d47-e427-46e3-8197-5a64241fff25"
      },
      "source": [
        "pcl_loader = PointcloudLoader()\n",
        "pcl_loader.load_ned_trajectory()\n",
        "pcl_loader.load_ned_pointcloud()"
      ],
      "execution_count": 0,
      "outputs": [
        {
          "output_type": "stream",
          "text": [
            "Get start and end time of LIADR measurements...\n",
            "Done!\n",
            "Search for precomputed NED trajectory /content/drive/My Drive/ADL4CV/downloads/oxford_dataset/reference/gps/ned_trajectory_ins_reference.npy...\n",
            "Done!\n",
            "Search for precomputed NED pointcloud /content/drive/My Drive/ADL4CV/downloads/oxford_dataset/reference/lms_front/ned_pointcloud_reference.npy...\n",
            "Not found! Create pointcloud in vehicle reference system from LMS data...\n"
          ],
          "name": "stdout"
        }
      ]
    }
  ]
}